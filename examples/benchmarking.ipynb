{
 "cells": [
  {
   "cell_type": "code",
   "execution_count": 4,
   "id": "b7d64184",
   "metadata": {},
   "outputs": [],
   "source": [
    "import numpy as np\n",
    "\n",
    "import time\n",
    "\n",
    "import matplotlib.pyplot as plt\n",
    "\n",
    "import WDM"
   ]
  },
  {
   "cell_type": "code",
   "execution_count": 5,
   "id": "d51fd3b4",
   "metadata": {},
   "outputs": [],
   "source": [
    "wdm = WDM.code.discrete_wavelet_transform.WDM.WDM_transform(dt=1., \n",
    "                                                            Nf=512, \n",
    "                                                            N=16384, \n",
    "                                                            calc_m0=True)"
   ]
  },
  {
   "cell_type": "code",
   "execution_count": 9,
   "id": "f78f1d47",
   "metadata": {},
   "outputs": [],
   "source": [
    "x = np.random.normal(size=wdm.N) # white noise"
   ]
  },
  {
   "cell_type": "code",
   "execution_count": 7,
   "id": "f68fc199",
   "metadata": {},
   "outputs": [
    {
     "name": "stdout",
     "output_type": "stream",
     "text": [
      "Time taken: 3.43\n"
     ]
    }
   ],
   "source": [
    "t0 = time.time()\n",
    "wdm.forward_transform_exact(x)\n",
    "t1 = time.time()\n",
    "\n",
    "print(f\"Time taken: {t1-t0:.2f}\")"
   ]
  },
  {
   "cell_type": "code",
   "execution_count": 8,
   "id": "436a751a",
   "metadata": {},
   "outputs": [
    {
     "name": "stdout",
     "output_type": "stream",
     "text": [
      "Time taken: 0.41\n"
     ]
    }
   ],
   "source": [
    "t0 = time.time()\n",
    "wdm.forward_transform_short_fft(x)\n",
    "t1 = time.time()\n",
    "\n",
    "print(f\"Time taken: {t1-t0:.2f}\")"
   ]
  },
  {
   "cell_type": "code",
   "execution_count": null,
   "id": "0f471ff0",
   "metadata": {},
   "outputs": [],
   "source": [
    "t0 = time.time()\n",
    "wdm.forward_transform_fft(x)\n",
    "t1 = time.time()\n",
    "\n",
    "print(f\"Time taken: {t1-t0:.2f}\")"
   ]
  },
  {
   "cell_type": "code",
   "execution_count": null,
   "id": "58aca9e0",
   "metadata": {},
   "outputs": [],
   "source": []
  },
  {
   "cell_type": "code",
   "execution_count": null,
   "id": "ba4203ed",
   "metadata": {},
   "outputs": [],
   "source": []
  }
 ],
 "metadata": {
  "kernelspec": {
   "display_name": "WDM",
   "language": "python",
   "name": "python3"
  },
  "language_info": {
   "codemirror_mode": {
    "name": "ipython",
    "version": 3
   },
   "file_extension": ".py",
   "mimetype": "text/x-python",
   "name": "python",
   "nbconvert_exporter": "python",
   "pygments_lexer": "ipython3",
   "version": "3.13.5"
  }
 },
 "nbformat": 4,
 "nbformat_minor": 5
}
