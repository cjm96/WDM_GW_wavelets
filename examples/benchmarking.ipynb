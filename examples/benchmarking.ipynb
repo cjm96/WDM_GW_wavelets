{
 "cells": [
  {
   "cell_type": "markdown",
   "id": "a8d15cee",
   "metadata": {},
   "source": [
    "# Benchmarking"
   ]
  },
  {
   "cell_type": "code",
   "execution_count": 1,
   "id": "b7d64184",
   "metadata": {},
   "outputs": [],
   "source": [
    "import numpy as np\n",
    "\n",
    "import time\n",
    "\n",
    "import matplotlib.pyplot as plt\n",
    "\n",
    "import WDM"
   ]
  },
  {
   "cell_type": "code",
   "execution_count": 2,
   "id": "d51fd3b4",
   "metadata": {},
   "outputs": [],
   "source": [
    "wdm = WDM.code.discrete_wavelet_transform.WDM.WDM_transform(dt=1., \n",
    "                                                            Nf=2**10, \n",
    "                                                            N=2**15)"
   ]
  },
  {
   "cell_type": "code",
   "execution_count": 3,
   "id": "f78f1d47",
   "metadata": {},
   "outputs": [],
   "source": [
    "x = np.random.normal(size=wdm.N) # white noise"
   ]
  },
  {
   "cell_type": "code",
   "execution_count": 4,
   "id": "f68fc199",
   "metadata": {},
   "outputs": [
    {
     "name": "stdout",
     "output_type": "stream",
     "text": [
      "Time taken: 0.05\n"
     ]
    }
   ],
   "source": [
    "t0 = time.time()\n",
    "w = wdm.forward_transform_exact(x)\n",
    "t1 = time.time()\n",
    "\n",
    "print(f\"Time taken: {t1-t0:.2f}\")"
   ]
  },
  {
   "cell_type": "code",
   "execution_count": 5,
   "id": "436a751a",
   "metadata": {},
   "outputs": [
    {
     "name": "stdout",
     "output_type": "stream",
     "text": [
      "Time taken: 0.06\n"
     ]
    }
   ],
   "source": [
    "t0 = time.time()\n",
    "w = wdm.forward_transform_short_fft(x)\n",
    "t1 = time.time()\n",
    "\n",
    "print(f\"Time taken: {t1-t0:.2f}\")"
   ]
  },
  {
   "cell_type": "markdown",
   "id": "9a77c473",
   "metadata": {},
   "source": [
    "Inverse transform."
   ]
  },
  {
   "cell_type": "code",
   "execution_count": 5,
   "id": "e8075045",
   "metadata": {},
   "outputs": [
    {
     "ename": "TypeError",
     "evalue": "cannot reshape array of shape (1, 3200) (size 3200) into shape (10000,) (size 10000)",
     "output_type": "error",
     "traceback": [
      "\u001b[31m---------------------------------------------------------------------------\u001b[39m",
      "\u001b[31mTypeError\u001b[39m                                 Traceback (most recent call last)",
      "\u001b[36mCell\u001b[39m\u001b[36m \u001b[39m\u001b[32mIn[5]\u001b[39m\u001b[32m, line 8\u001b[39m\n\u001b[32m      5\u001b[39m w = np.random.normal(size=(wdm.Nt, wdm.Nf)) \u001b[38;5;66;03m# random wavelet coefficients\u001b[39;00m\n\u001b[32m      7\u001b[39m t0 = time.time()\n\u001b[32m----> \u001b[39m\u001b[32m8\u001b[39m x = \u001b[43mwdm\u001b[49m\u001b[43m.\u001b[49m\u001b[43minverse_transform\u001b[49m\u001b[43m(\u001b[49m\u001b[43mw\u001b[49m\u001b[43m)\u001b[49m.block_until_ready()\n\u001b[32m      9\u001b[39m t1 = time.time()\n\u001b[32m     10\u001b[39m \u001b[38;5;28mprint\u001b[39m(\u001b[33mf\u001b[39m\u001b[33m\"\u001b[39m\u001b[33mTime taken for idwt: \u001b[39m\u001b[38;5;132;01m{\u001b[39;00m(t1-t0)*\u001b[32m1000\u001b[39m\u001b[38;5;132;01m:\u001b[39;00m\u001b[33m.2f\u001b[39m\u001b[38;5;132;01m}\u001b[39;00m\u001b[33m milliseconds\u001b[39m\u001b[33m\"\u001b[39m)\n",
      "    \u001b[31m[... skipping hidden 15 frame]\u001b[39m\n",
      "\u001b[36mFile \u001b[39m\u001b[32m~/Documents/WDM/WDM_GW_wavelets/WDM/code/discrete_wavelet_transform/WDM.py:1093\u001b[39m, in \u001b[36mWDM_transform.inverse_transform\u001b[39m\u001b[34m(self, w)\u001b[39m\n\u001b[32m   1087\u001b[39m     x = jax.lax.fori_loop(\u001b[32m1\u001b[39m, \u001b[38;5;66;03m# only sum over m>0\u001b[39;00m\n\u001b[32m   1088\u001b[39m                           \u001b[38;5;28mself\u001b[39m.Nf, \n\u001b[32m   1089\u001b[39m                           \u001b[38;5;28;01mlambda\u001b[39;00m m, acc: add_one_freq(acc, m), \n\u001b[32m   1090\u001b[39m                           x)\n\u001b[32m   1091\u001b[39m     \u001b[38;5;28;01mreturn\u001b[39;00m x\n\u001b[32m-> \u001b[39m\u001b[32m1093\u001b[39m x = \u001b[43mjax\u001b[49m\u001b[43m.\u001b[49m\u001b[43mlax\u001b[49m\u001b[43m.\u001b[49m\u001b[43mfori_loop\u001b[49m\u001b[43m(\u001b[49m\u001b[32;43m0\u001b[39;49m\u001b[43m,\u001b[49m\u001b[43m \u001b[49m\n\u001b[32m   1094\u001b[39m \u001b[43m                      \u001b[49m\u001b[38;5;28;43mself\u001b[39;49m\u001b[43m.\u001b[49m\u001b[43mNt\u001b[49m\u001b[43m,\u001b[49m\u001b[43m \u001b[49m\n\u001b[32m   1095\u001b[39m \u001b[43m                      \u001b[49m\u001b[38;5;28;43;01mlambda\u001b[39;49;00m\u001b[43m \u001b[49m\u001b[43mn\u001b[49m\u001b[43m,\u001b[49m\u001b[43m \u001b[49m\u001b[43macc\u001b[49m\u001b[43m:\u001b[49m\u001b[43m \u001b[49m\u001b[43madd_one_time\u001b[49m\u001b[43m(\u001b[49m\u001b[43macc\u001b[49m\u001b[43m,\u001b[49m\u001b[43m \u001b[49m\u001b[43mn\u001b[49m\u001b[43m)\u001b[49m\u001b[43m,\u001b[49m\u001b[43m \u001b[49m\n\u001b[32m   1096\u001b[39m \u001b[43m                      \u001b[49m\u001b[43mx\u001b[49m\u001b[43m)\u001b[49m\n\u001b[32m   1098\u001b[39m \u001b[38;5;28;01mif\u001b[39;00m \u001b[38;5;28mself\u001b[39m.calc_m0:\n\u001b[32m   1099\u001b[39m     \u001b[38;5;66;03m# overwrite m=0 terms for n<Nt/2 (zero-frequency terms)\u001b[39;00m\n\u001b[32m   1100\u001b[39m     n_vals = jnp.arange(\u001b[38;5;28mself\u001b[39m.Nt//\u001b[32m2\u001b[39m)\n",
      "    \u001b[31m[... skipping hidden 13 frame]\u001b[39m\n",
      "\u001b[36mFile \u001b[39m\u001b[32m~/Documents/WDM/WDM_GW_wavelets/WDM/code/discrete_wavelet_transform/WDM.py:1095\u001b[39m, in \u001b[36mWDM_transform.inverse_transform.<locals>.<lambda>\u001b[39m\u001b[34m(n, acc)\u001b[39m\n\u001b[32m   1087\u001b[39m     x = jax.lax.fori_loop(\u001b[32m1\u001b[39m, \u001b[38;5;66;03m# only sum over m>0\u001b[39;00m\n\u001b[32m   1088\u001b[39m                           \u001b[38;5;28mself\u001b[39m.Nf, \n\u001b[32m   1089\u001b[39m                           \u001b[38;5;28;01mlambda\u001b[39;00m m, acc: add_one_freq(acc, m), \n\u001b[32m   1090\u001b[39m                           x)\n\u001b[32m   1091\u001b[39m     \u001b[38;5;28;01mreturn\u001b[39;00m x\n\u001b[32m   1093\u001b[39m x = jax.lax.fori_loop(\u001b[32m0\u001b[39m, \n\u001b[32m   1094\u001b[39m                       \u001b[38;5;28mself\u001b[39m.Nt, \n\u001b[32m-> \u001b[39m\u001b[32m1095\u001b[39m                       \u001b[38;5;28;01mlambda\u001b[39;00m n, acc: \u001b[43madd_one_time\u001b[49m\u001b[43m(\u001b[49m\u001b[43macc\u001b[49m\u001b[43m,\u001b[49m\u001b[43m \u001b[49m\u001b[43mn\u001b[49m\u001b[43m)\u001b[49m, \n\u001b[32m   1096\u001b[39m                       x)\n\u001b[32m   1098\u001b[39m \u001b[38;5;28;01mif\u001b[39;00m \u001b[38;5;28mself\u001b[39m.calc_m0:\n\u001b[32m   1099\u001b[39m     \u001b[38;5;66;03m# overwrite m=0 terms for n<Nt/2 (zero-frequency terms)\u001b[39;00m\n\u001b[32m   1100\u001b[39m     n_vals = jnp.arange(\u001b[38;5;28mself\u001b[39m.Nt//\u001b[32m2\u001b[39m)\n",
      "    \u001b[31m[... skipping hidden 13 frame]\u001b[39m\n",
      "\u001b[36mFile \u001b[39m\u001b[32m~/Documents/WDM/WDM_GW_wavelets/WDM/code/discrete_wavelet_transform/WDM.py:1087\u001b[39m, in \u001b[36mWDM_transform.inverse_transform.<locals>.add_one_time\u001b[39m\u001b[34m(x, n)\u001b[39m\n\u001b[32m   1084\u001b[39m     x = x.at[..., indices].add(term.reshape(leading+(\u001b[38;5;28mself\u001b[39m.N,)))\n\u001b[32m   1085\u001b[39m     \u001b[38;5;28;01mreturn\u001b[39;00m x\n\u001b[32m-> \u001b[39m\u001b[32m1087\u001b[39m x = \u001b[43mjax\u001b[49m\u001b[43m.\u001b[49m\u001b[43mlax\u001b[49m\u001b[43m.\u001b[49m\u001b[43mfori_loop\u001b[49m\u001b[43m(\u001b[49m\u001b[32;43m1\u001b[39;49m\u001b[43m,\u001b[49m\u001b[43m \u001b[49m\u001b[38;5;66;43;03m# only sum over m>0\u001b[39;49;00m\n\u001b[32m   1088\u001b[39m \u001b[43m                      \u001b[49m\u001b[38;5;28;43mself\u001b[39;49m\u001b[43m.\u001b[49m\u001b[43mNf\u001b[49m\u001b[43m,\u001b[49m\u001b[43m \u001b[49m\n\u001b[32m   1089\u001b[39m \u001b[43m                      \u001b[49m\u001b[38;5;28;43;01mlambda\u001b[39;49;00m\u001b[43m \u001b[49m\u001b[43mm\u001b[49m\u001b[43m,\u001b[49m\u001b[43m \u001b[49m\u001b[43macc\u001b[49m\u001b[43m:\u001b[49m\u001b[43m \u001b[49m\u001b[43madd_one_freq\u001b[49m\u001b[43m(\u001b[49m\u001b[43macc\u001b[49m\u001b[43m,\u001b[49m\u001b[43m \u001b[49m\u001b[43mm\u001b[49m\u001b[43m)\u001b[49m\u001b[43m,\u001b[49m\u001b[43m \u001b[49m\n\u001b[32m   1090\u001b[39m \u001b[43m                      \u001b[49m\u001b[43mx\u001b[49m\u001b[43m)\u001b[49m\n\u001b[32m   1091\u001b[39m \u001b[38;5;28;01mreturn\u001b[39;00m x\n",
      "    \u001b[31m[... skipping hidden 13 frame]\u001b[39m\n",
      "\u001b[36mFile \u001b[39m\u001b[32m~/Documents/WDM/WDM_GW_wavelets/WDM/code/discrete_wavelet_transform/WDM.py:1089\u001b[39m, in \u001b[36mWDM_transform.inverse_transform.<locals>.add_one_time.<locals>.<lambda>\u001b[39m\u001b[34m(m, acc)\u001b[39m\n\u001b[32m   1084\u001b[39m     x = x.at[..., indices].add(term.reshape(leading+(\u001b[38;5;28mself\u001b[39m.N,)))\n\u001b[32m   1085\u001b[39m     \u001b[38;5;28;01mreturn\u001b[39;00m x\n\u001b[32m   1087\u001b[39m x = jax.lax.fori_loop(\u001b[32m1\u001b[39m, \u001b[38;5;66;03m# only sum over m>0\u001b[39;00m\n\u001b[32m   1088\u001b[39m                       \u001b[38;5;28mself\u001b[39m.Nf, \n\u001b[32m-> \u001b[39m\u001b[32m1089\u001b[39m                       \u001b[38;5;28;01mlambda\u001b[39;00m m, acc: \u001b[43madd_one_freq\u001b[49m\u001b[43m(\u001b[49m\u001b[43macc\u001b[49m\u001b[43m,\u001b[49m\u001b[43m \u001b[49m\u001b[43mm\u001b[49m\u001b[43m)\u001b[49m, \n\u001b[32m   1090\u001b[39m                       x)\n\u001b[32m   1091\u001b[39m \u001b[38;5;28;01mreturn\u001b[39;00m x\n",
      "    \u001b[31m[... skipping hidden 13 frame]\u001b[39m\n",
      "\u001b[36mFile \u001b[39m\u001b[32m~/Documents/WDM/WDM_GW_wavelets/WDM/code/discrete_wavelet_transform/WDM.py:1084\u001b[39m, in \u001b[36mWDM_transform.inverse_transform.<locals>.add_one_time.<locals>.add_one_freq\u001b[39m\u001b[34m(x, m)\u001b[39m\n\u001b[32m   1082\u001b[39m coeff = jnp.atleast_1d(w[...,n,m])\n\u001b[32m   1083\u001b[39m term = coeff[:,jnp.newaxis]*wavelet[jnp.newaxis,:]\n\u001b[32m-> \u001b[39m\u001b[32m1084\u001b[39m x = x.at[..., indices].add(\u001b[43mterm\u001b[49m\u001b[43m.\u001b[49m\u001b[43mreshape\u001b[49m\u001b[43m(\u001b[49m\u001b[43mleading\u001b[49m\u001b[43m+\u001b[49m\u001b[43m(\u001b[49m\u001b[38;5;28;43mself\u001b[39;49m\u001b[43m.\u001b[49m\u001b[43mN\u001b[49m\u001b[43m,\u001b[49m\u001b[43m)\u001b[49m\u001b[43m)\u001b[49m)\n\u001b[32m   1085\u001b[39m \u001b[38;5;28;01mreturn\u001b[39;00m x\n",
      "    \u001b[31m[... skipping hidden 2 frame]\u001b[39m\n",
      "\u001b[36mFile \u001b[39m\u001b[32m~/miniconda3/envs/WDM/lib/python3.13/site-packages/jax/_src/numpy/array_methods.py:477\u001b[39m, in \u001b[36m_compute_newshape\u001b[39m\u001b[34m(arr, newshape)\u001b[39m\n\u001b[32m    474\u001b[39m \u001b[38;5;28;01melse\u001b[39;00m:\n\u001b[32m    475\u001b[39m   \u001b[38;5;28;01mif\u001b[39;00m (\u001b[38;5;28mall\u001b[39m(\u001b[38;5;28misinstance\u001b[39m(d, \u001b[38;5;28mint\u001b[39m) \u001b[38;5;28;01mfor\u001b[39;00m d \u001b[38;5;129;01min\u001b[39;00m (*arr.shape, *newshape)) \u001b[38;5;129;01mand\u001b[39;00m\n\u001b[32m    476\u001b[39m       arr.size != math.prod(newshape)):\n\u001b[32m--> \u001b[39m\u001b[32m477\u001b[39m     \u001b[38;5;28;01mraise\u001b[39;00m \u001b[38;5;167;01mTypeError\u001b[39;00m(\u001b[33mf\u001b[39m\u001b[33m\"\u001b[39m\u001b[33mcannot reshape array of shape \u001b[39m\u001b[38;5;132;01m{\u001b[39;00marr.shape\u001b[38;5;132;01m}\u001b[39;00m\u001b[33m (size \u001b[39m\u001b[38;5;132;01m{\u001b[39;00marr.size\u001b[38;5;132;01m}\u001b[39;00m\u001b[33m) \u001b[39m\u001b[33m\"\u001b[39m\n\u001b[32m    478\u001b[39m                     \u001b[33mf\u001b[39m\u001b[33m\"\u001b[39m\u001b[33minto shape \u001b[39m\u001b[38;5;132;01m{\u001b[39;00morig_newshape\u001b[38;5;132;01m}\u001b[39;00m\u001b[33m (size \u001b[39m\u001b[38;5;132;01m{\u001b[39;00mmath.prod(newshape)\u001b[38;5;132;01m}\u001b[39;00m\u001b[33m)\u001b[39m\u001b[33m\"\u001b[39m)\n\u001b[32m    479\u001b[39m \u001b[38;5;28;01mreturn\u001b[39;00m \u001b[38;5;28mtuple\u001b[39m(-core.divide_shape_sizes(arr.shape, newshape)\n\u001b[32m    480\u001b[39m              \u001b[38;5;28;01mif\u001b[39;00m core.definitely_equal(d, -\u001b[32m1\u001b[39m) \u001b[38;5;28;01melse\u001b[39;00m d \u001b[38;5;28;01mfor\u001b[39;00m d \u001b[38;5;129;01min\u001b[39;00m newshape)\n",
      "\u001b[31mTypeError\u001b[39m: cannot reshape array of shape (1, 3200) (size 3200) into shape (10000,) (size 10000)"
     ]
    }
   ],
   "source": [
    "wdm = WDM.code.discrete_wavelet_transform.WDM.WDM_transform(dt=1., \n",
    "                                                            Nf=int(1.0e2), \n",
    "                                                            N=int(1.0e4))\n",
    "\n",
    "w = np.random.normal(size=(wdm.Nt, wdm.Nf)) # random wavelet coefficients\n",
    "\n",
    "t0 = time.time()\n",
    "x = wdm.inverse_transform(w).block_until_ready()\n",
    "t1 = time.time()\n",
    "print(f\"Time taken for idwt: {(t1-t0)*1000:.2f} milliseconds\")\n",
    "\n",
    "t0 = time.time()\n",
    "x = wdm.inverse_transform_exact(w).block_until_ready()\n",
    "t1 = time.time()\n",
    "print(f\"Time taken for idwt: {(t1-t0)*1000:.2f} milliseconds\")\n",
    "\n",
    "t0 = time.time()\n",
    "X = np.fft.fft(x)/wdm.dt\n",
    "t1 = time.time()\n",
    "print(f\"Time taken for fft: {(t1-t0)*1000:.2f} milliseconds\")\n"
   ]
  },
  {
   "cell_type": "code",
   "execution_count": 7,
   "id": "ba4203ed",
   "metadata": {},
   "outputs": [
    {
     "name": "stdout",
     "output_type": "stream",
     "text": [
      "Time taken for idwt: 730.43 milliseconds\n",
      "Time taken for idwt: 245.99 milliseconds\n",
      "Time taken for fft: 4.95 milliseconds\n"
     ]
    }
   ],
   "source": [
    "t0 = time.time()\n",
    "x = wdm.inverse_transform(w).block_until_ready()\n",
    "t1 = time.time()\n",
    "print(f\"Time taken for idwt: {(t1-t0)*1000:.2f} milliseconds\")\n",
    "\n",
    "t0 = time.time()\n",
    "x = wdm.inverse_transform_exact(w).block_until_ready()\n",
    "t1 = time.time()\n",
    "print(f\"Time taken for idwt: {(t1-t0)*1000:.2f} milliseconds\")\n",
    "\n",
    "t0 = time.time()\n",
    "X = np.fft.fft(x)/wdm.dt\n",
    "t1 = time.time()\n",
    "print(f\"Time taken for fft: {(t1-t0)*1000:.2f} milliseconds\")"
   ]
  },
  {
   "cell_type": "code",
   "execution_count": 6,
   "id": "180e5e2d",
   "metadata": {},
   "outputs": [
    {
     "ename": "TypeError",
     "evalue": "cannot reshape array of shape (1, 3200) (size 3200) into shape (10000,) (size 10000)",
     "output_type": "error",
     "traceback": [
      "\u001b[31m---------------------------------------------------------------------------\u001b[39m",
      "\u001b[31mTypeError\u001b[39m                                 Traceback (most recent call last)",
      "\u001b[36mCell\u001b[39m\u001b[36m \u001b[39m\u001b[32mIn[6]\u001b[39m\u001b[32m, line 2\u001b[39m\n\u001b[32m      1\u001b[39m t0 = time.time()\n\u001b[32m----> \u001b[39m\u001b[32m2\u001b[39m x = \u001b[43mwdm\u001b[49m\u001b[43m.\u001b[49m\u001b[43minverse_transform\u001b[49m\u001b[43m(\u001b[49m\u001b[43mw\u001b[49m\u001b[43m)\u001b[49m.block_until_ready()\n\u001b[32m      3\u001b[39m t1 = time.time()\n\u001b[32m      4\u001b[39m \u001b[38;5;28mprint\u001b[39m(\u001b[33mf\u001b[39m\u001b[33m\"\u001b[39m\u001b[33mTime taken for idwt: \u001b[39m\u001b[38;5;132;01m{\u001b[39;00m(t1-t0)*\u001b[32m1000\u001b[39m\u001b[38;5;132;01m:\u001b[39;00m\u001b[33m.2f\u001b[39m\u001b[38;5;132;01m}\u001b[39;00m\u001b[33m milliseconds\u001b[39m\u001b[33m\"\u001b[39m)\n",
      "    \u001b[31m[... skipping hidden 15 frame]\u001b[39m\n",
      "\u001b[36mFile \u001b[39m\u001b[32m~/Documents/WDM/WDM_GW_wavelets/WDM/code/discrete_wavelet_transform/WDM.py:1093\u001b[39m, in \u001b[36mWDM_transform.inverse_transform\u001b[39m\u001b[34m(self, w)\u001b[39m\n\u001b[32m   1087\u001b[39m     x = jax.lax.fori_loop(\u001b[32m1\u001b[39m, \u001b[38;5;66;03m# only sum over m>0\u001b[39;00m\n\u001b[32m   1088\u001b[39m                           \u001b[38;5;28mself\u001b[39m.Nf, \n\u001b[32m   1089\u001b[39m                           \u001b[38;5;28;01mlambda\u001b[39;00m m, acc: add_one_freq(acc, m), \n\u001b[32m   1090\u001b[39m                           x)\n\u001b[32m   1091\u001b[39m     \u001b[38;5;28;01mreturn\u001b[39;00m x\n\u001b[32m-> \u001b[39m\u001b[32m1093\u001b[39m x = \u001b[43mjax\u001b[49m\u001b[43m.\u001b[49m\u001b[43mlax\u001b[49m\u001b[43m.\u001b[49m\u001b[43mfori_loop\u001b[49m\u001b[43m(\u001b[49m\u001b[32;43m0\u001b[39;49m\u001b[43m,\u001b[49m\u001b[43m \u001b[49m\n\u001b[32m   1094\u001b[39m \u001b[43m                      \u001b[49m\u001b[38;5;28;43mself\u001b[39;49m\u001b[43m.\u001b[49m\u001b[43mNt\u001b[49m\u001b[43m,\u001b[49m\u001b[43m \u001b[49m\n\u001b[32m   1095\u001b[39m \u001b[43m                      \u001b[49m\u001b[38;5;28;43;01mlambda\u001b[39;49;00m\u001b[43m \u001b[49m\u001b[43mn\u001b[49m\u001b[43m,\u001b[49m\u001b[43m \u001b[49m\u001b[43macc\u001b[49m\u001b[43m:\u001b[49m\u001b[43m \u001b[49m\u001b[43madd_one_time\u001b[49m\u001b[43m(\u001b[49m\u001b[43macc\u001b[49m\u001b[43m,\u001b[49m\u001b[43m \u001b[49m\u001b[43mn\u001b[49m\u001b[43m)\u001b[49m\u001b[43m,\u001b[49m\u001b[43m \u001b[49m\n\u001b[32m   1096\u001b[39m \u001b[43m                      \u001b[49m\u001b[43mx\u001b[49m\u001b[43m)\u001b[49m\n\u001b[32m   1098\u001b[39m \u001b[38;5;28;01mif\u001b[39;00m \u001b[38;5;28mself\u001b[39m.calc_m0:\n\u001b[32m   1099\u001b[39m     \u001b[38;5;66;03m# overwrite m=0 terms for n<Nt/2 (zero-frequency terms)\u001b[39;00m\n\u001b[32m   1100\u001b[39m     n_vals = jnp.arange(\u001b[38;5;28mself\u001b[39m.Nt//\u001b[32m2\u001b[39m)\n",
      "    \u001b[31m[... skipping hidden 13 frame]\u001b[39m\n",
      "\u001b[36mFile \u001b[39m\u001b[32m~/Documents/WDM/WDM_GW_wavelets/WDM/code/discrete_wavelet_transform/WDM.py:1095\u001b[39m, in \u001b[36mWDM_transform.inverse_transform.<locals>.<lambda>\u001b[39m\u001b[34m(n, acc)\u001b[39m\n\u001b[32m   1087\u001b[39m     x = jax.lax.fori_loop(\u001b[32m1\u001b[39m, \u001b[38;5;66;03m# only sum over m>0\u001b[39;00m\n\u001b[32m   1088\u001b[39m                           \u001b[38;5;28mself\u001b[39m.Nf, \n\u001b[32m   1089\u001b[39m                           \u001b[38;5;28;01mlambda\u001b[39;00m m, acc: add_one_freq(acc, m), \n\u001b[32m   1090\u001b[39m                           x)\n\u001b[32m   1091\u001b[39m     \u001b[38;5;28;01mreturn\u001b[39;00m x\n\u001b[32m   1093\u001b[39m x = jax.lax.fori_loop(\u001b[32m0\u001b[39m, \n\u001b[32m   1094\u001b[39m                       \u001b[38;5;28mself\u001b[39m.Nt, \n\u001b[32m-> \u001b[39m\u001b[32m1095\u001b[39m                       \u001b[38;5;28;01mlambda\u001b[39;00m n, acc: \u001b[43madd_one_time\u001b[49m\u001b[43m(\u001b[49m\u001b[43macc\u001b[49m\u001b[43m,\u001b[49m\u001b[43m \u001b[49m\u001b[43mn\u001b[49m\u001b[43m)\u001b[49m, \n\u001b[32m   1096\u001b[39m                       x)\n\u001b[32m   1098\u001b[39m \u001b[38;5;28;01mif\u001b[39;00m \u001b[38;5;28mself\u001b[39m.calc_m0:\n\u001b[32m   1099\u001b[39m     \u001b[38;5;66;03m# overwrite m=0 terms for n<Nt/2 (zero-frequency terms)\u001b[39;00m\n\u001b[32m   1100\u001b[39m     n_vals = jnp.arange(\u001b[38;5;28mself\u001b[39m.Nt//\u001b[32m2\u001b[39m)\n",
      "    \u001b[31m[... skipping hidden 13 frame]\u001b[39m\n",
      "\u001b[36mFile \u001b[39m\u001b[32m~/Documents/WDM/WDM_GW_wavelets/WDM/code/discrete_wavelet_transform/WDM.py:1087\u001b[39m, in \u001b[36mWDM_transform.inverse_transform.<locals>.add_one_time\u001b[39m\u001b[34m(x, n)\u001b[39m\n\u001b[32m   1084\u001b[39m     x = x.at[..., indices].add(term.reshape(leading+(\u001b[38;5;28mself\u001b[39m.N,)))\n\u001b[32m   1085\u001b[39m     \u001b[38;5;28;01mreturn\u001b[39;00m x\n\u001b[32m-> \u001b[39m\u001b[32m1087\u001b[39m x = \u001b[43mjax\u001b[49m\u001b[43m.\u001b[49m\u001b[43mlax\u001b[49m\u001b[43m.\u001b[49m\u001b[43mfori_loop\u001b[49m\u001b[43m(\u001b[49m\u001b[32;43m1\u001b[39;49m\u001b[43m,\u001b[49m\u001b[43m \u001b[49m\u001b[38;5;66;43;03m# only sum over m>0\u001b[39;49;00m\n\u001b[32m   1088\u001b[39m \u001b[43m                      \u001b[49m\u001b[38;5;28;43mself\u001b[39;49m\u001b[43m.\u001b[49m\u001b[43mNf\u001b[49m\u001b[43m,\u001b[49m\u001b[43m \u001b[49m\n\u001b[32m   1089\u001b[39m \u001b[43m                      \u001b[49m\u001b[38;5;28;43;01mlambda\u001b[39;49;00m\u001b[43m \u001b[49m\u001b[43mm\u001b[49m\u001b[43m,\u001b[49m\u001b[43m \u001b[49m\u001b[43macc\u001b[49m\u001b[43m:\u001b[49m\u001b[43m \u001b[49m\u001b[43madd_one_freq\u001b[49m\u001b[43m(\u001b[49m\u001b[43macc\u001b[49m\u001b[43m,\u001b[49m\u001b[43m \u001b[49m\u001b[43mm\u001b[49m\u001b[43m)\u001b[49m\u001b[43m,\u001b[49m\u001b[43m \u001b[49m\n\u001b[32m   1090\u001b[39m \u001b[43m                      \u001b[49m\u001b[43mx\u001b[49m\u001b[43m)\u001b[49m\n\u001b[32m   1091\u001b[39m \u001b[38;5;28;01mreturn\u001b[39;00m x\n",
      "    \u001b[31m[... skipping hidden 13 frame]\u001b[39m\n",
      "\u001b[36mFile \u001b[39m\u001b[32m~/Documents/WDM/WDM_GW_wavelets/WDM/code/discrete_wavelet_transform/WDM.py:1089\u001b[39m, in \u001b[36mWDM_transform.inverse_transform.<locals>.add_one_time.<locals>.<lambda>\u001b[39m\u001b[34m(m, acc)\u001b[39m\n\u001b[32m   1084\u001b[39m     x = x.at[..., indices].add(term.reshape(leading+(\u001b[38;5;28mself\u001b[39m.N,)))\n\u001b[32m   1085\u001b[39m     \u001b[38;5;28;01mreturn\u001b[39;00m x\n\u001b[32m   1087\u001b[39m x = jax.lax.fori_loop(\u001b[32m1\u001b[39m, \u001b[38;5;66;03m# only sum over m>0\u001b[39;00m\n\u001b[32m   1088\u001b[39m                       \u001b[38;5;28mself\u001b[39m.Nf, \n\u001b[32m-> \u001b[39m\u001b[32m1089\u001b[39m                       \u001b[38;5;28;01mlambda\u001b[39;00m m, acc: \u001b[43madd_one_freq\u001b[49m\u001b[43m(\u001b[49m\u001b[43macc\u001b[49m\u001b[43m,\u001b[49m\u001b[43m \u001b[49m\u001b[43mm\u001b[49m\u001b[43m)\u001b[49m, \n\u001b[32m   1090\u001b[39m                       x)\n\u001b[32m   1091\u001b[39m \u001b[38;5;28;01mreturn\u001b[39;00m x\n",
      "    \u001b[31m[... skipping hidden 13 frame]\u001b[39m\n",
      "\u001b[36mFile \u001b[39m\u001b[32m~/Documents/WDM/WDM_GW_wavelets/WDM/code/discrete_wavelet_transform/WDM.py:1084\u001b[39m, in \u001b[36mWDM_transform.inverse_transform.<locals>.add_one_time.<locals>.add_one_freq\u001b[39m\u001b[34m(x, m)\u001b[39m\n\u001b[32m   1082\u001b[39m coeff = jnp.atleast_1d(w[...,n,m])\n\u001b[32m   1083\u001b[39m term = coeff[:,jnp.newaxis]*wavelet[jnp.newaxis,:]\n\u001b[32m-> \u001b[39m\u001b[32m1084\u001b[39m x = x.at[..., indices].add(\u001b[43mterm\u001b[49m\u001b[43m.\u001b[49m\u001b[43mreshape\u001b[49m\u001b[43m(\u001b[49m\u001b[43mleading\u001b[49m\u001b[43m+\u001b[49m\u001b[43m(\u001b[49m\u001b[38;5;28;43mself\u001b[39;49m\u001b[43m.\u001b[49m\u001b[43mN\u001b[49m\u001b[43m,\u001b[49m\u001b[43m)\u001b[49m\u001b[43m)\u001b[49m)\n\u001b[32m   1085\u001b[39m \u001b[38;5;28;01mreturn\u001b[39;00m x\n",
      "    \u001b[31m[... skipping hidden 2 frame]\u001b[39m\n",
      "\u001b[36mFile \u001b[39m\u001b[32m~/miniconda3/envs/WDM/lib/python3.13/site-packages/jax/_src/numpy/array_methods.py:477\u001b[39m, in \u001b[36m_compute_newshape\u001b[39m\u001b[34m(arr, newshape)\u001b[39m\n\u001b[32m    474\u001b[39m \u001b[38;5;28;01melse\u001b[39;00m:\n\u001b[32m    475\u001b[39m   \u001b[38;5;28;01mif\u001b[39;00m (\u001b[38;5;28mall\u001b[39m(\u001b[38;5;28misinstance\u001b[39m(d, \u001b[38;5;28mint\u001b[39m) \u001b[38;5;28;01mfor\u001b[39;00m d \u001b[38;5;129;01min\u001b[39;00m (*arr.shape, *newshape)) \u001b[38;5;129;01mand\u001b[39;00m\n\u001b[32m    476\u001b[39m       arr.size != math.prod(newshape)):\n\u001b[32m--> \u001b[39m\u001b[32m477\u001b[39m     \u001b[38;5;28;01mraise\u001b[39;00m \u001b[38;5;167;01mTypeError\u001b[39;00m(\u001b[33mf\u001b[39m\u001b[33m\"\u001b[39m\u001b[33mcannot reshape array of shape \u001b[39m\u001b[38;5;132;01m{\u001b[39;00marr.shape\u001b[38;5;132;01m}\u001b[39;00m\u001b[33m (size \u001b[39m\u001b[38;5;132;01m{\u001b[39;00marr.size\u001b[38;5;132;01m}\u001b[39;00m\u001b[33m) \u001b[39m\u001b[33m\"\u001b[39m\n\u001b[32m    478\u001b[39m                     \u001b[33mf\u001b[39m\u001b[33m\"\u001b[39m\u001b[33minto shape \u001b[39m\u001b[38;5;132;01m{\u001b[39;00morig_newshape\u001b[38;5;132;01m}\u001b[39;00m\u001b[33m (size \u001b[39m\u001b[38;5;132;01m{\u001b[39;00mmath.prod(newshape)\u001b[38;5;132;01m}\u001b[39;00m\u001b[33m)\u001b[39m\u001b[33m\"\u001b[39m)\n\u001b[32m    479\u001b[39m \u001b[38;5;28;01mreturn\u001b[39;00m \u001b[38;5;28mtuple\u001b[39m(-core.divide_shape_sizes(arr.shape, newshape)\n\u001b[32m    480\u001b[39m              \u001b[38;5;28;01mif\u001b[39;00m core.definitely_equal(d, -\u001b[32m1\u001b[39m) \u001b[38;5;28;01melse\u001b[39;00m d \u001b[38;5;28;01mfor\u001b[39;00m d \u001b[38;5;129;01min\u001b[39;00m newshape)\n",
      "\u001b[31mTypeError\u001b[39m: cannot reshape array of shape (1, 3200) (size 3200) into shape (10000,) (size 10000)"
     ]
    }
   ],
   "source": [
    "t0 = time.time()\n",
    "x = wdm.inverse_transform(w).block_until_ready()\n",
    "t1 = time.time()\n",
    "print(f\"Time taken for idwt: {(t1-t0)*1000:.2f} milliseconds\")\n",
    "\n",
    "t0 = time.time()\n",
    "x = wdm.inverse_transform_exact(w).block_until_ready()\n",
    "t1 = time.time()\n",
    "print(f\"Time taken for idwt: {(t1-t0)*1000:.2f} milliseconds\")\n",
    "\n",
    "t0 = time.time()\n",
    "X = np.fft.fft(x)/wdm.dt\n",
    "t1 = time.time()\n",
    "print(f\"Time taken for fft: {(t1-t0)*1000:.2f} milliseconds\")"
   ]
  },
  {
   "cell_type": "code",
   "execution_count": null,
   "id": "c26fe209",
   "metadata": {},
   "outputs": [],
   "source": []
  }
 ],
 "metadata": {
  "kernelspec": {
   "display_name": "WDM",
   "language": "python",
   "name": "python3"
  },
  "language_info": {
   "codemirror_mode": {
    "name": "ipython",
    "version": 3
   },
   "file_extension": ".py",
   "mimetype": "text/x-python",
   "name": "python",
   "nbconvert_exporter": "python",
   "pygments_lexer": "ipython3",
   "version": "3.13.5"
  }
 },
 "nbformat": 4,
 "nbformat_minor": 5
}
