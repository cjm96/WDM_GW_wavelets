{
 "cells": [
  {
   "cell_type": "markdown",
   "id": "a8d15cee",
   "metadata": {},
   "source": [
    "# Benchmarking"
   ]
  },
  {
   "cell_type": "code",
   "execution_count": 8,
   "id": "b7d64184",
   "metadata": {},
   "outputs": [],
   "source": [
    "import numpy as np\n",
    "\n",
    "import time\n",
    "\n",
    "import matplotlib.pyplot as plt\n",
    "\n",
    "import WDM"
   ]
  },
  {
   "cell_type": "code",
   "execution_count": 9,
   "id": "d51fd3b4",
   "metadata": {},
   "outputs": [],
   "source": [
    "wdm = WDM.WDM.WDM_transform(dt=1., \n",
    "                            Nf=2**10, \n",
    "                            N=2**15)"
   ]
  },
  {
   "cell_type": "code",
   "execution_count": 10,
   "id": "f78f1d47",
   "metadata": {},
   "outputs": [],
   "source": [
    "x = np.random.normal(size=wdm.N) # white noise"
   ]
  },
  {
   "cell_type": "code",
   "execution_count": 11,
   "id": "f68fc199",
   "metadata": {},
   "outputs": [
    {
     "name": "stdout",
     "output_type": "stream",
     "text": [
      "Time taken: 0.05\n"
     ]
    }
   ],
   "source": [
    "t0 = time.time()\n",
    "w = wdm.forward_transform_exact(x)\n",
    "t1 = time.time()\n",
    "\n",
    "print(f\"Time taken: {t1-t0:.2f}\")"
   ]
  },
  {
   "cell_type": "code",
   "execution_count": 12,
   "id": "436a751a",
   "metadata": {},
   "outputs": [
    {
     "name": "stdout",
     "output_type": "stream",
     "text": [
      "Time taken: 0.10\n"
     ]
    }
   ],
   "source": [
    "t0 = time.time()\n",
    "w = wdm.forward_transform_short_fft(x)\n",
    "t1 = time.time()\n",
    "\n",
    "print(f\"Time taken: {t1-t0:.2f}\")"
   ]
  },
  {
   "cell_type": "markdown",
   "id": "9a77c473",
   "metadata": {},
   "source": [
    "Inverse transform."
   ]
  },
  {
   "cell_type": "code",
   "execution_count": 13,
   "id": "e8075045",
   "metadata": {},
   "outputs": [
    {
     "name": "stdout",
     "output_type": "stream",
     "text": [
      "Time taken for idwt: 4288.04 milliseconds\n",
      "Time taken for idwt: 228.40 milliseconds\n",
      "Time taken for fft: 2.53 milliseconds\n"
     ]
    }
   ],
   "source": [
    "wdm = WDM.code.discrete_wavelet_transform.WDM.WDM_transform(dt=1., \n",
    "                                                            Nf=int(1.0e2), \n",
    "                                                            N=int(1.0e4))\n",
    "\n",
    "w = np.random.normal(size=(wdm.Nt, wdm.Nf)) # random wavelet coefficients\n",
    "\n",
    "t0 = time.time()\n",
    "x = wdm.inverse_transform(w).block_until_ready()\n",
    "t1 = time.time()\n",
    "print(f\"Time taken for idwt: {(t1-t0)*1000:.2f} milliseconds\")\n",
    "\n",
    "t0 = time.time()\n",
    "x = wdm.inverse_transform_exact(w).block_until_ready()\n",
    "t1 = time.time()\n",
    "print(f\"Time taken for idwt: {(t1-t0)*1000:.2f} milliseconds\")\n",
    "\n",
    "t0 = time.time()\n",
    "X = np.fft.fft(x)/wdm.dt\n",
    "t1 = time.time()\n",
    "print(f\"Time taken for fft: {(t1-t0)*1000:.2f} milliseconds\")\n"
   ]
  },
  {
   "cell_type": "code",
   "execution_count": 14,
   "id": "ba4203ed",
   "metadata": {},
   "outputs": [
    {
     "name": "stdout",
     "output_type": "stream",
     "text": [
      "Time taken for idwt: 112.08 milliseconds\n",
      "Time taken for idwt: 178.76 milliseconds\n",
      "Time taken for fft: 1.87 milliseconds\n"
     ]
    }
   ],
   "source": [
    "t0 = time.time()\n",
    "x = wdm.inverse_transform(w).block_until_ready()\n",
    "t1 = time.time()\n",
    "print(f\"Time taken for idwt: {(t1-t0)*1000:.2f} milliseconds\")\n",
    "\n",
    "t0 = time.time()\n",
    "x = wdm.inverse_transform_exact(w).block_until_ready()\n",
    "t1 = time.time()\n",
    "print(f\"Time taken for idwt: {(t1-t0)*1000:.2f} milliseconds\")\n",
    "\n",
    "t0 = time.time()\n",
    "X = np.fft.fft(x)/wdm.dt\n",
    "t1 = time.time()\n",
    "print(f\"Time taken for fft: {(t1-t0)*1000:.2f} milliseconds\")"
   ]
  },
  {
   "cell_type": "code",
   "execution_count": 15,
   "id": "180e5e2d",
   "metadata": {},
   "outputs": [
    {
     "name": "stdout",
     "output_type": "stream",
     "text": [
      "Time taken for idwt: 283.79 milliseconds\n"
     ]
    }
   ],
   "source": [
    "wdm = WDM.code.discrete_wavelet_transform.WDM.WDM_transform(dt=1., \n",
    "                                                            Nf=int(1.0e2), \n",
    "                                                            N=int(1.0e4))\n",
    "\n",
    "w = np.random.normal(size=(3, wdm.Nt, wdm.Nf)) # random wavelet coefficients\n",
    "\n",
    "t0 = time.time()\n",
    "x = wdm.inverse_transform(w).block_until_ready()\n",
    "t1 = time.time()\n",
    "print(f\"Time taken for idwt: {(t1-t0)*1000:.2f} milliseconds\")\n"
   ]
  },
  {
   "cell_type": "code",
   "execution_count": null,
   "id": "c26fe209",
   "metadata": {},
   "outputs": [],
   "source": []
  }
 ],
 "metadata": {
  "kernelspec": {
   "display_name": "WDM",
   "language": "python",
   "name": "python3"
  },
  "language_info": {
   "codemirror_mode": {
    "name": "ipython",
    "version": 3
   },
   "file_extension": ".py",
   "mimetype": "text/x-python",
   "name": "python",
   "nbconvert_exporter": "python",
   "pygments_lexer": "ipython3",
   "version": "3.13.5"
  }
 },
 "nbformat": 4,
 "nbformat_minor": 5
}
