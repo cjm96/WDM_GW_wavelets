{
 "cells": [
  {
   "cell_type": "markdown",
   "id": "eabb40eb",
   "metadata": {},
   "source": [
    "# Download data\n",
    "\n",
    "To run this notebook you will need to download the GW data.\n",
    "\n",
    "`python download_GW170817_data.py`"
   ]
  },
  {
   "cell_type": "markdown",
   "id": "6de59557",
   "metadata": {},
   "source": [
    "# Demo\n",
    "\n",
    "Use the L1 GW170817 data to demonstrate (i) glitch removal, (ii) bandpass filtering, and (iii) whitening in the wavelet time-frequency domain."
   ]
  },
  {
   "cell_type": "code",
   "execution_count": 1,
   "id": "e094d4ed",
   "metadata": {},
   "outputs": [],
   "source": [
    "import numpy as np\n",
    "\n",
    "import matplotlib.pyplot as plt\n",
    "\n",
    "import WDM"
   ]
  },
  {
   "cell_type": "markdown",
   "id": "a17a8cc2",
   "metadata": {},
   "source": [
    "# Load data"
   ]
  },
  {
   "cell_type": "code",
   "execution_count": 14,
   "id": "7db7e579",
   "metadata": {},
   "outputs": [
    {
     "name": "stdout",
     "output_type": "stream",
     "text": [
      "# Gravitational wave strain for GW170817_R1 for L1 (see http://losc.ligo.org)\n",
      "# This file has 4096 samples per second\n",
      "# starting GPS 1187006835 duration 4096\n"
     ]
    }
   ],
   "source": [
    "path = \"../data/L-L1_GWOSC_4KHZ_R1-1187006835-4096.txt\"\n",
    "\n",
    "with open(path, 'r', encoding='utf-8') as f:\n",
    "    for line in f:\n",
    "        if line.startswith('#'):\n",
    "            print(line.rstrip('\\n'))\n",
    "        else:\n",
    "            break\n",
    "\n",
    "data = np.loadtxt(path)\n",
    "\n",
    "f_samp = 4096.0\n",
    "\n",
    "gps_time = 1187006835.0 + np.arange(data.shape[0]) / f_samp"
   ]
  },
  {
   "cell_type": "markdown",
   "id": "6bad45ac",
   "metadata": {},
   "source": [
    "# Noise Estimatation"
   ]
  },
  {
   "cell_type": "code",
   "execution_count": null,
   "id": "04bedbcc",
   "metadata": {},
   "outputs": [],
   "source": [
    "def overlapping_windows(x, num_perseg, num_overlap):\n",
    "    \"\"\"\n",
    "    Split input `x` into overlapping windows. Trailing samples that don't fill\n",
    "    a full window are discarded.\n",
    "\n",
    "    Parameters\n",
    "    ----------\n",
    "    x : ndarray\n",
    "        Input array to split into windows.\n",
    "    num_perseg : int\n",
    "        Length of each segment.\n",
    "    num_overlap : int\n",
    "        Number of overlapping samples between segments.\n",
    "\n",
    "    Returns\n",
    "    -------\n",
    "    y : ndarray \n",
    "        Array of shape (n_windows, num_perseg).\n",
    "    \"\"\"\n",
    "    x = np.asarray(x)\n",
    "    if x.ndim != 1:\n",
    "        raise ValueError(\"x must be 1D\")\n",
    "    if num_perseg <= 0:\n",
    "        raise ValueError(\"num_perseg must be positive\")\n",
    "    if not (0 <= num_overlap < num_perseg):\n",
    "        raise ValueError(\"num_overlap must satisfy 0 <= overlap < num_perseg\")\n",
    "\n",
    "    step = num_perseg - num_overlap\n",
    "    if x.size < num_perseg:\n",
    "        return np.empty((0, num_perseg), dtype=x.dtype)\n",
    "\n",
    "    return np.lib.stride_tricks.sliding_window_view(x, num_perseg)[::step]"
   ]
  },
  {
   "cell_type": "code",
   "execution_count": 41,
   "id": "92262444",
   "metadata": {},
   "outputs": [
    {
     "name": "stdout",
     "output_type": "stream",
     "text": [
      "Splitting data in 142 segements with 131072 samples per segment. The signal is in segment number 70.\n"
     ]
    }
   ],
   "source": [
    "num_perseg = 32*int(f_samp)\n",
    "num_overlap = num_perseg // 10\n",
    "\n",
    "overlapping_times = overlapping_windows(gps_time, num_perseg, num_overlap)\n",
    "overlapping_data = overlapping_windows(data, num_perseg, num_overlap)\n",
    "\n",
    "trigger = 1187008882.43\n",
    "\n",
    "idx = np.argmax(np.any(overlapping_times>trigger, axis=1))\n",
    "\n",
    "print(f\"Splitting data in {overlapping_times.shape[0]} segements with \" \\\n",
    "      f\"{num_perseg} samples per segment. \" \\\n",
    "      f\"The signal is in segment number {idx}.\")"
   ]
  },
  {
   "cell_type": "code",
   "execution_count": 45,
   "id": "85e4cb5d",
   "metadata": {},
   "outputs": [],
   "source": [
    "wdm = WDM.code.discrete_wavelet_transform.WDM.WDM_transform(dt=1./f_samp, Nf=256, N=num_perseg)"
   ]
  },
  {
   "cell_type": "code",
   "execution_count": 51,
   "id": "8e892d2b",
   "metadata": {},
   "outputs": [
    {
     "data": {
      "text/plain": [
       "Array([[ 0.,  0.,  0., ...,  0.,  0.,  0.],\n",
       "       [ 0., -0.,  0., ..., -0.,  0., -0.],\n",
       "       [ 0.,  0.,  0., ...,  0.,  0.,  0.],\n",
       "       ...,\n",
       "       [-0., -0.,  0., ..., -0.,  0.,  0.],\n",
       "       [ 0.,  0.,  0., ..., -0.,  0.,  0.],\n",
       "       [ 0., -0., -0., ..., -0.,  0., -0.]], dtype=float64)"
      ]
     },
     "execution_count": 51,
     "metadata": {},
     "output_type": "execute_result"
    }
   ],
   "source": [
    "i=10\n",
    "wdm.forward_transform_fft(overlapping_data[i])"
   ]
  },
  {
   "cell_type": "code",
   "execution_count": 49,
   "id": "327b488b",
   "metadata": {},
   "outputs": [
    {
     "data": {
      "text/plain": [
       "array([[ 7.14542541e-20,  6.52920412e-20,  6.84001118e-20, ...,\n",
       "         1.82066611e-19,  1.81332041e-19,  1.83418042e-19],\n",
       "       [ 1.43235544e-19,  1.32145068e-19,  1.28687309e-19, ...,\n",
       "        -5.71866915e-20, -6.84137304e-20, -6.47657097e-20],\n",
       "       [-1.58975370e-19, -1.46702942e-19, -1.49324594e-19, ...,\n",
       "        -1.64243209e-19, -1.58017998e-19, -1.59059632e-19],\n",
       "       ...,\n",
       "       [ 9.95504035e-20,  1.04410231e-19,  1.02323583e-19, ...,\n",
       "        -2.17949965e-19, -2.21499579e-19, -2.24383952e-19],\n",
       "       [-1.65828941e-19, -1.62077696e-19, -1.60427753e-19, ...,\n",
       "         5.92753089e-21,  1.33514438e-20,  1.23126493e-20],\n",
       "       [ 5.56083871e-20,  5.34565484e-20,  5.57811377e-20, ...,\n",
       "        -1.95209445e-19, -2.01402402e-19, -1.94379460e-19]],\n",
       "      shape=(142, 131072))"
      ]
     },
     "execution_count": 49,
     "metadata": {},
     "output_type": "execute_result"
    }
   ],
   "source": [
    "overlapping_data"
   ]
  },
  {
   "cell_type": "code",
   "execution_count": null,
   "id": "2ce2d613",
   "metadata": {},
   "outputs": [],
   "source": []
  }
 ],
 "metadata": {
  "kernelspec": {
   "display_name": "WDM",
   "language": "python",
   "name": "python3"
  },
  "language_info": {
   "codemirror_mode": {
    "name": "ipython",
    "version": 3
   },
   "file_extension": ".py",
   "mimetype": "text/x-python",
   "name": "python",
   "nbconvert_exporter": "python",
   "pygments_lexer": "ipython3",
   "version": "3.13.5"
  }
 },
 "nbformat": 4,
 "nbformat_minor": 5
}
