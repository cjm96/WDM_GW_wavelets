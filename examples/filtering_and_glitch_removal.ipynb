{
 "cells": [
  {
   "cell_type": "markdown",
   "id": "eabb40eb",
   "metadata": {},
   "source": [
    "# Download data\n",
    "\n",
    "To run this notebook you will need to download the GW data.\n",
    "\n",
    "`python download_GW170817_data.py`"
   ]
  },
  {
   "cell_type": "markdown",
   "id": "6de59557",
   "metadata": {},
   "source": [
    "# Demo\n",
    "\n",
    "Use the L1 GW170817 data to demonstrate (i) glitch removal, (ii) bandpass filtering, and (iii) whitening in the wavelet time-frequency domain."
   ]
  },
  {
   "cell_type": "code",
   "execution_count": null,
   "id": "e094d4ed",
   "metadata": {},
   "outputs": [],
   "source": [
    "import numpy as np\n",
    "\n",
    "import matplotlib.pyplot as plt\n",
    "\n",
    "import WDM"
   ]
  },
  {
   "cell_type": "markdown",
   "id": "a17a8cc2",
   "metadata": {},
   "source": [
    "# Load data"
   ]
  },
  {
   "cell_type": "code",
   "execution_count": null,
   "id": "7db7e579",
   "metadata": {},
   "outputs": [],
   "source": [
    "path = \"../data/L-L1_GWOSC_4KHZ_R1-1187006835-4096.txt\"\n",
    "\n",
    "with open(path, 'r', encoding='utf-8') as f:\n",
    "    for line in f:\n",
    "        if line.startswith('#'):\n",
    "            print(line.rstrip('\\n'))\n",
    "        else:\n",
    "            break\n",
    "\n",
    "data = np.loadtxt(path)\n",
    "\n",
    "f_samp = 4096.0\n",
    "\n",
    "gps_time = 1187006835.0 + np.arange(data.shape[0]) / f_samp"
   ]
  },
  {
   "cell_type": "markdown",
   "id": "6bad45ac",
   "metadata": {},
   "source": [
    "# Noise Estimatation"
   ]
  },
  {
   "cell_type": "code",
   "execution_count": null,
   "id": "04bedbcc",
   "metadata": {},
   "outputs": [],
   "source": [
    "def overlapping_windows(x, num_perseg, num_overlap):\n",
    "    \"\"\"\n",
    "    Split input `x` into overlapping windows. Trailing samples that don't fill\n",
    "    a full window are discarded.\n",
    "\n",
    "    Parameters\n",
    "    ----------\n",
    "    x : ndarray\n",
    "        Input array to split into windows.\n",
    "    num_perseg : int\n",
    "        Length of each segment.\n",
    "    num_overlap : int\n",
    "        Number of overlapping samples between segments.\n",
    "\n",
    "    Returns\n",
    "    -------\n",
    "    y : ndarray \n",
    "        Array of shape (n_windows, num_perseg).\n",
    "    \"\"\"\n",
    "    x = np.asarray(x)\n",
    "    if x.ndim != 1:\n",
    "        raise ValueError(\"x must be 1D\")\n",
    "    if num_perseg <= 0:\n",
    "        raise ValueError(\"num_perseg must be positive\")\n",
    "    if not (0 <= num_overlap < num_perseg):\n",
    "        raise ValueError(\"num_overlap must satisfy 0 <= overlap < num_perseg\")\n",
    "\n",
    "    step = num_perseg - num_overlap\n",
    "    if x.size < num_perseg:\n",
    "        return np.empty((0, num_perseg), dtype=x.dtype)\n",
    "\n",
    "    return np.lib.stride_tricks.sliding_window_view(x, num_perseg)[::step]"
   ]
  },
  {
   "cell_type": "code",
   "execution_count": null,
   "id": "92262444",
   "metadata": {},
   "outputs": [],
   "source": [
    "num_perseg = 32*int(f_samp)\n",
    "num_overlap = num_perseg // 10\n",
    "\n",
    "overlapping_times = overlapping_windows(gps_time, num_perseg, num_overlap)\n",
    "overlapping_data = overlapping_windows(data, num_perseg, num_overlap)\n",
    "\n",
    "trigger = 1187008882.43\n",
    "\n",
    "idx = np.argmax(np.any(overlapping_times>trigger, axis=1))\n",
    "\n",
    "print(f\"Splitting data in {overlapping_times.shape[0]} segements with \" \\\n",
    "      f\"{num_perseg} samples per segment. \" \\\n",
    "      f\"The signal is in segment number {idx}.\")"
   ]
  },
  {
   "cell_type": "code",
   "execution_count": null,
   "id": "85e4cb5d",
   "metadata": {},
   "outputs": [],
   "source": [
    "wdm = WDM.code.discrete_wavelet_transform.WDM.WDM_transform(dt=1./f_samp, Nf=256, N=num_perseg)"
   ]
  },
  {
   "cell_type": "code",
   "execution_count": null,
   "id": "2d40eeb3",
   "metadata": {},
   "outputs": [],
   "source": [
    "t, f = wdm.wavelet_central_time_frequency(np.arange(wdm.Nt), np.arange(wdm.Nf))\n",
    "\n",
    "bandpass = np.logical_and(f>20.0, f<1000.0)\n",
    "\n",
    "f[:,100]"
   ]
  },
  {
   "cell_type": "code",
   "execution_count": null,
   "id": "e6583393",
   "metadata": {},
   "outputs": [],
   "source": [
    "def test():\n",
    "    assert wdm.check_indices(1,1), \"a\"\n",
    "    return 1"
   ]
  },
  {
   "cell_type": "code",
   "execution_count": null,
   "id": "8e892d2b",
   "metadata": {},
   "outputs": [],
   "source": [
    "overlapping_data_TF = np.array([ \n",
    "                        wdm.forward_transform_short_fft(overlapping_data[i]) \n",
    "                        for i in range(overlapping_data.shape[0]) ])"
   ]
  },
  {
   "cell_type": "code",
   "execution_count": null,
   "id": "d01bfd4e",
   "metadata": {},
   "outputs": [],
   "source": [
    "mask = (np.arange(overlapping_data.shape[0]) != idx)\n",
    "\n",
    "overlapping_data_off_source_TF = overlapping_data_TF[mask,:,:]"
   ]
  },
  {
   "cell_type": "code",
   "execution_count": null,
   "id": "d4c9b652",
   "metadata": {},
   "outputs": [],
   "source": [
    "S = np.sqrt(np.mean(overlapping_data_off_source_TF**2, axis=0))"
   ]
  },
  {
   "cell_type": "code",
   "execution_count": null,
   "id": "1e136e97",
   "metadata": {},
   "outputs": [],
   "source": [
    "fig, ax = plt.subplots()\n",
    "ax.imshow(np.log10(S.T), extent=[0., num_perseg/f_samp, 0., 0.5*f_samp], aspect='auto')\n",
    "plt.show()"
   ]
  },
  {
   "cell_type": "code",
   "execution_count": null,
   "id": "494b450b",
   "metadata": {},
   "outputs": [],
   "source": [
    "S[:,0] = 1.0\n",
    "\n",
    "whitened = overlapping_data_TF[idx,:,:]/S\n",
    "\n",
    "whitened[~bandpass] = 0.0"
   ]
  },
  {
   "cell_type": "code",
   "execution_count": null,
   "id": "7a113cd3",
   "metadata": {},
   "outputs": [],
   "source": [
    "t_cells, _ = wdm.wavelet_central_time_frequency(np.arange(wdm.Nt), np.ones(wdm.Nf))\n",
    "\n",
    "glitch = np.logical_and(t_cells>29.8, t_cells<30.9)\n",
    "\n",
    "whitened[glitch] = 0.0"
   ]
  },
  {
   "cell_type": "code",
   "execution_count": null,
   "id": "9f3b43ba",
   "metadata": {},
   "outputs": [],
   "source": [
    "\n",
    "\n",
    "np.sum(glitch[:,0])"
   ]
  },
  {
   "cell_type": "code",
   "execution_count": null,
   "id": "d6591f39",
   "metadata": {},
   "outputs": [],
   "source": [
    "fig, ax = wdm.time_frequency_plot(whitened, scale='log')\n",
    "ax.set_ylim(0,500)\n",
    "plt.show()"
   ]
  },
  {
   "cell_type": "code",
   "execution_count": null,
   "id": "6e4d2fc8",
   "metadata": {},
   "outputs": [],
   "source": [
    "whitened_TD = wdm.inverse_transform(whitened)"
   ]
  },
  {
   "cell_type": "code",
   "execution_count": null,
   "id": "d8026383",
   "metadata": {},
   "outputs": [],
   "source": [
    "plt.plot(wdm.times, whitened_TD)\n",
    "plt.show()"
   ]
  },
  {
   "cell_type": "code",
   "execution_count": null,
   "id": "0f09d62d",
   "metadata": {},
   "outputs": [],
   "source": []
  },
  {
   "cell_type": "code",
   "execution_count": null,
   "id": "aaa9819e",
   "metadata": {},
   "outputs": [],
   "source": []
  }
 ],
 "metadata": {
  "kernelspec": {
   "display_name": "WDM",
   "language": "python",
   "name": "python3"
  },
  "language_info": {
   "codemirror_mode": {
    "name": "ipython",
    "version": 3
   },
   "file_extension": ".py",
   "mimetype": "text/x-python",
   "name": "python",
   "nbconvert_exporter": "python",
   "pygments_lexer": "ipython3",
   "version": "3.13.5"
  }
 },
 "nbformat": 4,
 "nbformat_minor": 5
}
