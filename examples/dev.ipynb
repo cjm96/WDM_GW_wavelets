{
 "cells": [
  {
   "cell_type": "code",
   "execution_count": 68,
   "id": "60f725f1",
   "metadata": {},
   "outputs": [],
   "source": [
    "import numpy as np\n",
    "import jax.numpy as jnp\n",
    "import matplotlib.pyplot as plt\n",
    "from WDM.code.utils.Meyer import Meyer\n",
    "from WDM.code.utils.utils import C_nm "
   ]
  },
  {
   "cell_type": "code",
   "execution_count": 126,
   "id": "ad4f9cb0",
   "metadata": {},
   "outputs": [],
   "source": [
    "dt = 0.25 \n",
    "\n",
    "Nf = 16\n",
    "\n",
    "N = 512\n",
    "\n",
    "Nt = N//Nf\n",
    "\n",
    "f_Ny = 1. / (2. * dt)\n",
    "\n",
    "T = N*dt\n",
    "\n",
    "times = np.arange(0, T, dt)\n",
    "\n",
    "freqs = np.fft.fftfreq(N, d=dt)\n",
    "\n",
    "q = 16\n",
    "                \n",
    "d = 4\n",
    "\n",
    "A_frac = 0.25\n",
    "B_frac = 1. - 2. * A_frac \n",
    "\n",
    "dF = 1. / ( 2. * dt * Nf )  \n",
    "dOmega = 2. * np.pi * dF\n",
    "dT = Nf * dt\n",
    "\n",
    "A = A_frac * dOmega\n",
    "B = B_frac * dOmega\n",
    "\n",
    "K = 2 * q * Nf\n"
   ]
  },
  {
   "cell_type": "code",
   "execution_count": 141,
   "id": "4a6b589d",
   "metadata": {},
   "outputs": [],
   "source": [
    "Gnm = {}\n",
    "gnm = {}\n",
    "\n",
    "for n in range(Nt):\n",
    "    Gnm[(n, 0)] = np.exp(-1j*n*4.*np.pi*freqs*dT) * Meyer(2.*np.pi*freqs, d, A, B)\n",
    "    gnm[(n, 0)] = np.fft.ifft(Gnm[(n, 0)]).real / dt\n",
    "\n",
    "    for m in range(1, Nf):\n",
    "        Gnm[(n, m)] = (1/np.sqrt(2.)) * np.exp(-1j*n*2.*np.pi*freqs*dT) * ( \n",
    "                    C_nm(n, m) * Meyer(2.*np.pi*freqs-m*dOmega, d, A, B) +\n",
    "                    np.conj(C_nm(n, m)) * Meyer(2.*np.pi*freqs+m*dOmega, d, A, B) \n",
    "                )\n",
    "        \n",
    "        gnm[(n, m)] = np.fft.ifft(Gnm[(n, m)]).real / dt\n",
    "\n",
    "    Q = Nf%2\n",
    "    Gnm[(n, Nf)] = np.exp(-1j*(2*n+Q)*2.*np.pi*freqs*dT) * ( \n",
    "                    Meyer(2.*np.pi*freqs+2.*np.pi*f_Ny, d, A, B) + \n",
    "                    Meyer(2.*np.pi*freqs-2.*np.pi*f_Ny, d, A, B)\n",
    "    )\n",
    "    gnm[(n, Nf)] = np.fft.ifft(Gnm[(n, Nf)]).real / dt\n",
    "\n",
    "    "
   ]
  },
  {
   "cell_type": "code",
   "execution_count": 142,
   "id": "26d438a2",
   "metadata": {},
   "outputs": [
    {
     "data": {
      "image/png": "[encoded data removed]",
      "text/plain": [
       "<Figure size 640x480 with 1 Axes>"
      ]
     },
     "metadata": {},
     "output_type": "display_data"
    }
   ],
   "source": [
    "for n in [0]:\n",
    "    plt.plot(times,  gnm[(n, Nf)])\n",
    "plt.show()"
   ]
  },
  {
   "cell_type": "code",
   "execution_count": 143,
   "id": "11667058",
   "metadata": {},
   "outputs": [
    {
     "data": {
      "text/plain": [
       "np.float32(0.9999999)"
      ]
     },
     "execution_count": 143,
     "metadata": {},
     "output_type": "execute_result"
    }
   ],
   "source": [
    "np.sum(gnm[(2, 0)]*gnm[(2, 0)]*dt) * 2*np.pi"
   ]
  },
  {
   "cell_type": "code",
   "execution_count": 144,
   "id": "86d90fb6",
   "metadata": {},
   "outputs": [
    {
     "data": {
      "text/plain": [
       "np.float32(0.9999999)"
      ]
     },
     "execution_count": 144,
     "metadata": {},
     "output_type": "execute_result"
    }
   ],
   "source": [
    "np.sum( np.abs(Gnm[(4,0)])**2 / T )* 2*np.pi"
   ]
  },
  {
   "cell_type": "code",
   "execution_count": 131,
   "id": "f8facc23",
   "metadata": {},
   "outputs": [
    {
     "data": {
      "text/plain": [
       "(4.0, 4.0)"
      ]
     },
     "execution_count": 131,
     "metadata": {},
     "output_type": "execute_result"
    }
   ],
   "source": [
    "Nf*dt, dT"
   ]
  },
  {
   "cell_type": "code",
   "execution_count": null,
   "id": "687ee940",
   "metadata": {},
   "outputs": [],
   "source": []
  }
 ],
 "metadata": {
  "kernelspec": {
   "display_name": "WDM",
   "language": "python",
   "name": "python3"
  },
  "language_info": {
   "codemirror_mode": {
    "name": "ipython",
    "version": 3
   },
   "file_extension": ".py",
   "mimetype": "text/x-python",
   "name": "python",
   "nbconvert_exporter": "python",
   "pygments_lexer": "ipython3",
   "version": "3.13.5"
  }
 },
 "nbformat": 4,
 "nbformat_minor": 5
}
